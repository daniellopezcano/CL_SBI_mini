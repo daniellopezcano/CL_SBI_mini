{
 "cells": [
  {
   "cell_type": "markdown",
   "id": "c416ed3d-5263-4c90-99bd-3c1dfacafcb3",
   "metadata": {},
   "source": [
    "# Imports and setup"
   ]
  },
  {
   "cell_type": "code",
   "execution_count": null,
   "id": "ad1aca18-f954-4cad-b463-b76d4916f644",
   "metadata": {},
   "outputs": [],
   "source": [
    "import os, sys\n",
    "import numpy as np\n",
    "import torch\n",
    "import CL_SBI_mini as CL_SBI_mini\n",
    "\n",
    "%load_ext autoreload\n",
    "\n",
    "N_threads = 1\n",
    "os.environ[\"OMP_NUM_THREADS\"] = str(N_threads)\n",
    "os.environ[\"OPENBLAS_NUM_THREADS\"] = str(N_threads)\n",
    "os.environ[\"MKL_NUM_THREADS\"] = str(N_threads)\n",
    "os.environ[\"VECLIB_MAXIMUM_THREADS\"] = str(N_threads)\n",
    "os.environ[\"NUMEXPR_NUM_THREADS\"] = str(N_threads)\n",
    "torch.set_num_threads(N_threads)\n",
    "torch.set_num_interop_threads(N_threads)\n",
    "\n",
    "%matplotlib inline\n",
    "import matplotlib as mpl\n",
    "import matplotlib.pyplot as plt\n",
    "plt.style.use('default')\n",
    "plt.close('all')"
   ]
  },
  {
   "cell_type": "markdown",
   "id": "9d12bd7d-e9ee-4b67-af26-289cb3ecc3d1",
   "metadata": {},
   "source": [
    "# Load training dataset"
   ]
  },
  {
   "cell_type": "code",
   "execution_count": null,
   "id": "86b06232-1492-441b-9306-6b9f967d1b32",
   "metadata": {},
   "outputs": [],
   "source": [
    "normalize = True\n",
    "dset_dict = dict(\n",
    "    add_noise_Pk = \"cosmic_var_gauss\",\n",
    "    NN_noise_realizations = 10,\n",
    "    kmax = 0.6,\n",
    "    box = 2000,\n",
    "    factor_kmin_cut = 4\n",
    ")\n",
    "\n",
    "theta, xx = CL_SBI_mini.load_datasets.load_and_preprocess_dset(\n",
    "    path_load_dset = os.path.join(\"../\", \"DATASETS\", \"TRAIN\"),\n",
    "    list_model_names = [\"Model_eagle\", \"Model_illustris\"],\n",
    "    dset_dict = dset_dict,\n",
    "    normalize = normalize,\n",
    "    path_save_norm = None,\n",
    "    path_load_norm = os.path.join(\"../\", \"DATASETS\", \"TEST\")\n",
    ")"
   ]
  },
  {
   "cell_type": "code",
   "execution_count": null,
   "id": "1ddaeeab-c5d4-44fa-b9d4-6acd55b029bf",
   "metadata": {},
   "outputs": [],
   "source": [
    "kf = 2.0 * np.pi / dset_dict[\"box\"]\n",
    "kmin=np.log10(dset_dict[\"factor_kmin_cut\"]*kf)\n",
    "N_kk = int((dset_dict[\"kmax\"] - kmin) / (8*kf))\n",
    "\n",
    "N_plot_cosmo = 10\n",
    "indexes = np.random.choice(xx.shape[0], N_plot_cosmo, replace=False)\n",
    "\n",
    "fig, ax = mpl.pyplot.subplots(1,1,figsize=(9,6))\n",
    "ax.set_ylabel(r'$\\mathrm{Norm}\\left(P(k) \\left[ \\left(h^{-1} \\mathrm{Mpc}\\right)^{3} \\right]\\right)$')\n",
    "ax.set_xlabel('$k - index [adim]$')\n",
    "\n",
    "ax.plot(np.arange(N_kk), xx[indexes].T, c='limegreen', lw=1.5, marker=None, ms=2, alpha=0.7)\n",
    "\n",
    "plt.show()"
   ]
  },
  {
   "cell_type": "markdown",
   "id": "9eccea4d-bc13-4b63-b9bb-77c9b8d0e3b4",
   "metadata": {},
   "source": [
    "# Train SBI pipeline"
   ]
  },
  {
   "cell_type": "code",
   "execution_count": null,
   "id": "e969ac6e-c098-47bf-ab0f-bebbc2fe713b",
   "metadata": {},
   "outputs": [],
   "source": [
    "from sbi.inference import SNPE\n",
    "from sbi import utils"
   ]
  },
  {
   "cell_type": "code",
   "execution_count": null,
   "id": "017c7a5f-cf26-4e33-b53a-7624f1d7e514",
   "metadata": {},
   "outputs": [],
   "source": [
    "num_hidden_features = 64\n",
    "num_transforms      = 4\n",
    "num_blocks          = 3"
   ]
  },
  {
   "cell_type": "code",
   "execution_count": null,
   "id": "7bd43f84-0dfa-458c-9761-6e1717d6fdc8",
   "metadata": {},
   "outputs": [],
   "source": [
    "torch.manual_seed(0)\n",
    "\n",
    "density_estimator_build_fun = utils.get_nn_models.posterior_nn(\n",
    "    model='maf',\n",
    "    hidden_features=num_hidden_features,\n",
    "    num_transforms=num_transforms,\n",
    "    num_blocks=num_blocks\n",
    ")"
   ]
  },
  {
   "cell_type": "code",
   "execution_count": null,
   "id": "ce237825-1099-4f8d-88fd-b0059b652002",
   "metadata": {},
   "outputs": [],
   "source": [
    "device = \"cpu\"\n",
    "\n",
    "dict_bounds_params = {\n",
    "    'omega_cold': [0.23, 0.40],\n",
    "    'omega_baryon': [0.04, 0.06],\n",
    "    'hubble': [0.60, 0.80],\n",
    "    'ns': [0.92, 1.01],\n",
    "    'sigma8_cold': [0.73, 0.90]\n",
    "}\n",
    "\n",
    "def get_prior(dict_bounds, device=\"cpu\"):\n",
    "\n",
    "    lower_bound = np.vstack(tuple(dict_bounds[key] for key in dict_bounds))[:,0]\n",
    "    upper_bound = np.vstack(tuple(dict_bounds[key] for key in dict_bounds))[:,1]\n",
    "\n",
    "    lower_bound, upper_bound = (\n",
    "        torch.from_numpy(lower_bound.astype('float32')).to(device), \n",
    "        torch.from_numpy(upper_bound.astype('float32')).to(device)\n",
    "    )\n",
    "    prior = utils.BoxUniform(lower_bound, upper_bound)\n",
    "    \n",
    "    return prior"
   ]
  },
  {
   "cell_type": "code",
   "execution_count": null,
   "id": "01b1f8ff-57af-44aa-abb9-7ac830941da7",
   "metadata": {},
   "outputs": [],
   "source": [
    "inference = SNPE(\n",
    "    prior=get_prior(dict_bounds_params, device),\n",
    "    density_estimator=density_estimator_build_fun,\n",
    "    device=device\n",
    ")"
   ]
  },
  {
   "cell_type": "code",
   "execution_count": null,
   "id": "672d9fc5-7433-4246-9fc1-d2b26f0967cd",
   "metadata": {},
   "outputs": [],
   "source": [
    "inference.append_simulations(\n",
    "    torch.from_numpy(theta.astype('float32')).to(device), \n",
    "    torch.from_numpy(xx.astype('float32')).to(device)\n",
    ")"
   ]
  },
  {
   "cell_type": "code",
   "execution_count": null,
   "id": "14d6888d-ed14-4777-b5ad-a6c4365bc68b",
   "metadata": {},
   "outputs": [],
   "source": [
    "batch_size           = 8\n",
    "lr                   = 0.001"
   ]
  },
  {
   "cell_type": "code",
   "execution_count": null,
   "id": "e60c9b25-d313-46b1-a5b5-a6c762169f38",
   "metadata": {},
   "outputs": [],
   "source": [
    "%%time\n",
    "\n",
    "density_estimator = inference.train(\n",
    "    training_batch_size=batch_size,\n",
    "    validation_fraction=0.2,\n",
    "    learning_rate=lr,\n",
    "    show_train_summary=True\n",
    ")"
   ]
  },
  {
   "cell_type": "code",
   "execution_count": null,
   "id": "c44f8f04-c094-4970-9792-628e4b030665",
   "metadata": {},
   "outputs": [],
   "source": [
    "posterior = inference.build_posterior(\n",
    "    density_estimator\n",
    ")"
   ]
  },
  {
   "cell_type": "code",
   "execution_count": null,
   "id": "f4d060b7-c710-4bf0-b58d-fedcd7cb6203",
   "metadata": {},
   "outputs": [],
   "source": []
  }
 ],
 "metadata": {
  "kernelspec": {
   "display_name": "Python 3 (ipykernel)",
   "language": "python",
   "name": "python3"
  },
  "language_info": {
   "codemirror_mode": {
    "name": "ipython",
    "version": 3
   },
   "file_extension": ".py",
   "mimetype": "text/x-python",
   "name": "python",
   "nbconvert_exporter": "python",
   "pygments_lexer": "ipython3",
   "version": "3.9.19"
  }
 },
 "nbformat": 4,
 "nbformat_minor": 5
}
