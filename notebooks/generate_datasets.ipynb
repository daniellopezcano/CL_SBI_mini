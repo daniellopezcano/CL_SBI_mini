{
 "cells": [
  {
   "cell_type": "markdown",
   "id": "2b9edf30-81c1-44de-802f-bf864aea84e3",
   "metadata": {},
   "source": [
    "# Imports and setup"
   ]
  },
  {
   "cell_type": "code",
   "execution_count": null,
   "id": "d8ef0a8b-4de0-4e16-92f4-f6186760df56",
   "metadata": {},
   "outputs": [],
   "source": [
    "import os, sys\n",
    "import numpy as np\n",
    "import CL_SBI_mini as CL_SBI_mini\n",
    "\n",
    "%load_ext autoreload\n",
    "\n",
    "%matplotlib inline\n",
    "import matplotlib as mpl\n",
    "import matplotlib.pyplot as plt\n",
    "plt.style.use('default')\n",
    "plt.close('all')"
   ]
  },
  {
   "cell_type": "markdown",
   "id": "72d01b11-7be7-4915-a888-940b106e7f93",
   "metadata": {},
   "source": [
    "# Specify dataset config parameters"
   ]
  },
  {
   "cell_type": "code",
   "execution_count": null,
   "id": "c963d0a0-5e7b-40ec-b752-a07354a9687c",
   "metadata": {},
   "outputs": [],
   "source": [
    "box = 2000\n",
    "factor_kmin_cut = 4\n",
    "kmax = 0.6\n",
    "path_save_root = os.path.join(\"../\", \"DATASETS\")"
   ]
  },
  {
   "cell_type": "code",
   "execution_count": null,
   "id": "c93faa71-9ba6-486d-91dc-7ded2eb8cb6e",
   "metadata": {},
   "outputs": [],
   "source": [
    "dict_bound_augs = {\n",
    "\"eagle\"     : dict(M_c=12.97, eta=-0.02, beta=0.28, M1_z0_cen=9.430, theta_out=0.09, theta_inn=-0.79, M_inn=13.42),\n",
    "\"illustris\" : dict(M_c=14.99, eta=-0.23, beta=0.52, M1_z0_cen=10.75, theta_out=0.27, theta_inn=-1.99, M_inn=9.28 )\n",
    "}"
   ]
  },
  {
   "cell_type": "markdown",
   "id": "9d340e28-6ba4-4848-9ba4-e396f0d58bb0",
   "metadata": {},
   "source": [
    "# Generate training set"
   ]
  },
  {
   "cell_type": "code",
   "execution_count": null,
   "id": "d38121cb-8d11-4cd2-adef-f520b83e29f4",
   "metadata": {},
   "outputs": [],
   "source": [
    "path_save = os.path.join(path_save_root, 'TRAIN')\n",
    "NN_samples_cosmo = 8192\n",
    "seed = 0"
   ]
  },
  {
   "cell_type": "code",
   "execution_count": null,
   "id": "61975d3e-59c6-4cf7-b685-f967470be126",
   "metadata": {
    "scrolled": true
   },
   "outputs": [],
   "source": [
    "hydro_key = 'eagle'\n",
    "model_name = \"Model_\"+hydro_key\n",
    "NN_samples_augs = 1\n",
    "theta, xx, augs, ext_augs = CL_SBI_mini.preprocessing_tools.generate_baccoemu_dataset(\n",
    "    NN_samples_cosmo=NN_samples_cosmo, NN_samples_augs=NN_samples_augs,\n",
    "    dict_bounds_augs=dict_bound_augs[hydro_key], seed=seed, path_save=path_save, model_name=model_name,\n",
    "    kmax=kmax, box=box, factor_kmin_cut=factor_kmin_cut\n",
    ")"
   ]
  },
  {
   "cell_type": "code",
   "execution_count": null,
   "id": "bc449b8b-723c-43a0-b326-abd1406eff7f",
   "metadata": {},
   "outputs": [],
   "source": [
    "print('theta.shape (#sampled cosmologies, #cosmological parameters) -->', theta.shape)\n",
    "print('xx.shape (#sampled cosmologies, #baryonic models, #points k-space for Pk) -->', xx.shape)\n",
    "print('augs.shape (#sampled cosmologies, #sweeped baryonic parameters) -->', augs.shape)\n",
    "print('ext_augs.shape (#sampled cosmologies, #baryonic models, #baryonic parameters) -->', ext_augs.shape)"
   ]
  },
  {
   "cell_type": "code",
   "execution_count": null,
   "id": "4ec35a0c-7966-4500-b4ae-2c234cdf98ad",
   "metadata": {
    "scrolled": true
   },
   "outputs": [],
   "source": [
    "hydro_key = 'illustris'\n",
    "model_name = \"Model_\"+hydro_key\n",
    "NN_samples_augs = 1\n",
    "theta, xx, augs, ext_augs = CL_SBI_mini.preprocessing_tools.generate_baccoemu_dataset(\n",
    "    NN_samples_cosmo=NN_samples_cosmo, NN_samples_augs=NN_samples_augs,\n",
    "    dict_bounds_augs=dict_bound_augs[hydro_key], seed=seed, path_save=path_save, model_name=model_name,\n",
    "    kmax=kmax, box=box, factor_kmin_cut=factor_kmin_cut\n",
    ")"
   ]
  },
  {
   "cell_type": "code",
   "execution_count": null,
   "id": "0fe645a2-6d4d-4dc7-afd5-7ced912f395b",
   "metadata": {},
   "outputs": [],
   "source": [
    "print('theta.shape (#sampled cosmologies, #cosmological parameters) -->', theta.shape)\n",
    "print('xx.shape (#sampled cosmologies, #baryonic models, #points k-space for Pk) -->', xx.shape)\n",
    "print('augs.shape (#sampled cosmologies, #sweeped baryonic parameters) -->', augs.shape)\n",
    "print('ext_augs.shape (#sampled cosmologies, #baryonic models, #baryonic parameters) -->', ext_augs.shape)"
   ]
  },
  {
   "cell_type": "markdown",
   "id": "dbdda26a-df81-44c3-98e2-492e66a9fcb2",
   "metadata": {},
   "source": [
    "# Generate test set"
   ]
  },
  {
   "cell_type": "code",
   "execution_count": null,
   "id": "68e3ab7b-e3d2-43be-8242-d49b427ce0b8",
   "metadata": {},
   "outputs": [],
   "source": [
    "path_save = os.path.join(path_save_root, 'TEST')\n",
    "NN_samples_cosmo = 2048\n",
    "seed = 2"
   ]
  },
  {
   "cell_type": "code",
   "execution_count": null,
   "id": "56e10476-1f13-419d-9edb-8969829dfa7b",
   "metadata": {
    "scrolled": true
   },
   "outputs": [],
   "source": [
    "hydro_key = 'vary_all'\n",
    "model_name = \"Model_\"+hydro_key\n",
    "NN_samples_augs = 20\n",
    "theta, xx, augs, ext_augs = CL_SBI_mini.preprocessing_tools.generate_baccoemu_dataset(\n",
    "    NN_samples_cosmo=NN_samples_cosmo, NN_samples_augs=NN_samples_augs,\n",
    "    dict_bounds_augs=None, seed=seed, path_save=path_save, model_name=model_name,\n",
    "    kmax=kmax, box=box, factor_kmin_cut=factor_kmin_cut\n",
    ")"
   ]
  },
  {
   "cell_type": "code",
   "execution_count": null,
   "id": "58e4e2fe-271a-43a5-9049-996c0d861b49",
   "metadata": {},
   "outputs": [],
   "source": [
    "print('theta.shape (#sampled cosmologies, #cosmological parameters) -->', theta.shape)\n",
    "print('xx.shape (#sampled cosmologies, #baryonic models, #points k-space for Pk) -->', xx.shape)\n",
    "print('augs.shape (#sampled cosmologies, #sweeped baryonic parameters) -->', augs.shape)\n",
    "print('ext_augs.shape (#sampled cosmologies, #baryonic models, #baryonic parameters) -->', ext_augs.shape)"
   ]
  },
  {
   "cell_type": "markdown",
   "id": "aad5a39c-a599-46b7-8014-411061d6f441",
   "metadata": {},
   "source": [
    "# Load stored datasets and validate them"
   ]
  },
  {
   "cell_type": "code",
   "execution_count": null,
   "id": "54c0b575-9986-4527-be70-fe63017611c2",
   "metadata": {},
   "outputs": [],
   "source": [
    "normalize = False\n",
    "dset_dict = dict(\n",
    "    add_noise_Pk = \"cosmic_var_gauss\",\n",
    "    NN_noise_realizations = 10,\n",
    "    kmax = kmax,\n",
    "    box = box,\n",
    "    factor_kmin_cut = factor_kmin_cut\n",
    ")\n",
    "\n",
    "theta, xx = CL_SBI_mini.load_datasets.load_and_preprocess_dset(\n",
    "    path_load_dset = os.path.join(\"../\", \"DATASETS\", \"TRAIN\"),\n",
    "    list_model_names = [\"Model_eagle\", \"Model_illustris\"],\n",
    "    dset_dict = dset_dict,\n",
    "    normalize = normalize,\n",
    "    path_save_norm = None,\n",
    "    path_load_norm = None\n",
    ")"
   ]
  },
  {
   "cell_type": "code",
   "execution_count": null,
   "id": "062810e5-95f6-4728-a662-06b1c9ffabd7",
   "metadata": {},
   "outputs": [],
   "source": [
    "print('theta.shape (#sampled cosmologies x #baryonic models within list_model_names  x #noise realizations, #cosmological parameters) -->', theta.shape)\n",
    "print('xx.shape (#sampled cosmologies x #baryonic models within list_model_names  x #noise realizations, #points k-space for Pk) -->', xx.shape)"
   ]
  },
  {
   "cell_type": "code",
   "execution_count": null,
   "id": "df4b04e6-4e3c-4b75-b6b8-e53f5312934b",
   "metadata": {},
   "outputs": [],
   "source": [
    "kf = 2.0 * np.pi / dset_dict[\"box\"]\n",
    "kmin=np.log10(dset_dict[\"factor_kmin_cut\"]*kf)\n",
    "N_kk = int((dset_dict[\"kmax\"] - kmin) / (8*kf))\n",
    "kk = np.logspace(kmin, kmax, num=N_kk)\n",
    "\n",
    "N_plot_cosmo = 10\n",
    "indexes = np.random.choice(xx.shape[0], N_plot_cosmo, replace=False)\n",
    "\n",
    "fig, ax = mpl.pyplot.subplots(1,1,figsize=(9,6))\n",
    "ax.set_ylabel(r'$P(k) \\left[ \\left(h^{-1} \\mathrm{Mpc}\\right)^{3} \\right]$')\n",
    "ax.set_xlabel(r'$\\mathrm{Wavenumber}\\, k \\left[ h\\, \\mathrm{Mpc}^{-1} \\right]$')\n",
    "ax.axvline(10**kmax, c='k', ls=':', lw=1.)\n",
    "\n",
    "ax.plot(np.array(kk), xx[indexes].T, c='limegreen', lw=1.5, marker=None, ms=2, alpha=0.7)\n",
    "ax.set_xscale('log')\n",
    "ax.set_yscale('log')\n",
    "\n",
    "plt.show()"
   ]
  },
  {
   "cell_type": "code",
   "execution_count": null,
   "id": "85937e05-81f3-4406-9bbb-9f33e3e6d6bf",
   "metadata": {},
   "outputs": [],
   "source": [
    "normalize = True\n",
    "dset_dict = dict(\n",
    "    add_noise_Pk = \"cosmic_var_gauss\",\n",
    "    NN_noise_realizations = 1,\n",
    "    kmax = kmax,\n",
    "    box = box,\n",
    "    factor_kmin_cut = factor_kmin_cut\n",
    ")\n",
    "\n",
    "theta, xx = CL_SBI_mini.load_datasets.load_and_preprocess_dset(\n",
    "    path_load_dset = os.path.join(\"../\", \"DATASETS\", \"TEST\"),\n",
    "    list_model_names = [\"Model_vary_all\"],\n",
    "    dset_dict = dset_dict,\n",
    "    normalize = normalize,\n",
    "    path_save_norm = os.path.join(\"../\", \"DATASETS\", \"TEST\"),\n",
    "    path_load_norm = None\n",
    ")"
   ]
  },
  {
   "cell_type": "code",
   "execution_count": null,
   "id": "0e16b646-4bf5-4efb-ad5b-08c89ff8b313",
   "metadata": {},
   "outputs": [],
   "source": [
    "print('theta.shape (#sampled cosmologies x #baryonic models within list_model_names  x #noise realizations, #cosmological parameters) -->', theta.shape)\n",
    "print('xx.shape (#sampled cosmologies x #baryonic models within list_model_names  x #noise realizations, #points k-space for Pk) -->', xx.shape)"
   ]
  },
  {
   "cell_type": "code",
   "execution_count": null,
   "id": "66ad35ef-f5fd-4c3a-8a61-6946a1e04da4",
   "metadata": {},
   "outputs": [],
   "source": [
    "kf = 2.0 * np.pi / dset_dict[\"box\"]\n",
    "kmin=np.log10(dset_dict[\"factor_kmin_cut\"]*kf)\n",
    "N_kk = int((dset_dict[\"kmax\"] - kmin) / (8*kf))\n",
    "\n",
    "N_plot_cosmo = 10\n",
    "indexes = np.random.choice(xx.shape[0], N_plot_cosmo, replace=False)\n",
    "\n",
    "fig, ax = mpl.pyplot.subplots(1,1,figsize=(9,6))\n",
    "ax.set_ylabel(r'$\\mathrm{Norm}\\left(P(k) \\left[ \\left(h^{-1} \\mathrm{Mpc}\\right)^{3} \\right]\\right)$')\n",
    "ax.set_xlabel('$k - index [adim]$')\n",
    "\n",
    "ax.plot(np.arange(N_kk), xx[indexes].T, c='grey', lw=1.5, marker=None, ms=2, alpha=0.7)\n",
    "\n",
    "plt.show()"
   ]
  },
  {
   "cell_type": "code",
   "execution_count": null,
   "id": "2c8fb6fa-4adc-4b97-82ec-1a38ad1ae0ac",
   "metadata": {},
   "outputs": [],
   "source": []
  }
 ],
 "metadata": {
  "kernelspec": {
   "display_name": "Python 3 (ipykernel)",
   "language": "python",
   "name": "python3"
  },
  "language_info": {
   "codemirror_mode": {
    "name": "ipython",
    "version": 3
   },
   "file_extension": ".py",
   "mimetype": "text/x-python",
   "name": "python",
   "nbconvert_exporter": "python",
   "pygments_lexer": "ipython3",
   "version": "3.9.19"
  }
 },
 "nbformat": 4,
 "nbformat_minor": 5
}
